{
 "cells": [
  {
   "cell_type": "code",
   "execution_count": null,
   "id": "89547ae8-31de-4d85-8a2b-9b77376de845",
   "metadata": {},
   "outputs": [],
   "source": [
    "import numpy as np"
   ]
  },
  {
   "cell_type": "code",
   "execution_count": null,
   "id": "fe0eee41-1fda-46e4-a0c8-6d3bc36161b7",
   "metadata": {},
   "outputs": [],
   "source": [
    "signal = np.loadtxt(\"ecg_signal.txt\")"
   ]
  },
  {
   "cell_type": "code",
   "execution_count": null,
   "id": "86c80bfb-0efe-4f04-a086-c4957eb2f215",
   "metadata": {},
   "outputs": [],
   "source": [
    "import matplotlib.pyplot as plt"
   ]
  },
  {
   "cell_type": "code",
   "execution_count": null,
   "id": "f9147ee0-4d76-41c6-8d58-3712970a95b3",
   "metadata": {},
   "outputs": [],
   "source": [
    "t = np.linspace(0, 20, 10_000)\n",
    "plt.plot(t, signal);\n",
    "plt.xlabel(\"time [s]\")\n",
    "plt.ylabel(\"voltage [uV]\")"
   ]
  },
  {
   "cell_type": "code",
   "execution_count": null,
   "id": "cdf26ca5-4398-482b-a255-d0f0b7fb9b41",
   "metadata": {},
   "outputs": [],
   "source": [
    "from ipywidgets import interact, interactive, fixed, interact_manual\n",
    "import ipywidgets as widgets"
   ]
  },
  {
   "cell_type": "code",
   "execution_count": null,
   "id": "66ea4f47-a34f-4211-b591-8acb90aae1f8",
   "metadata": {},
   "outputs": [],
   "source": [
    "def f(freq=10., amplitude=40.):\n",
    "    noise = np.sin(t * 2 * np.pi * freq) * amplitude\n",
    "    plt.subplot(211)\n",
    "    plt.plot(noise)\n",
    "    plt.xlim([0, 2000])\n",
    "    plt.subplot(212)\n",
    "    plt.plot(signal - noise)\n",
    "    plt.xlim([0, 2000])\n",
    "    return signal - noise;\n",
    "\n",
    "w = interactive(f, freq=[10, 20, 30, 40, 50, 60, 70, 80, 90, 100], amplitude=(1, 100, 1));\n",
    "display(w);"
   ]
  },
  {
   "cell_type": "code",
   "execution_count": null,
   "id": "8af027f7-4320-4303-8085-95d77f15b19f",
   "metadata": {},
   "outputs": [],
   "source": [
    "clean = w.result"
   ]
  },
  {
   "cell_type": "code",
   "execution_count": null,
   "id": "71a9045d-f7a4-4757-95cf-7dc79eae6652",
   "metadata": {},
   "outputs": [],
   "source": [
    "plt.plot(clean)"
   ]
  },
  {
   "cell_type": "code",
   "execution_count": null,
   "id": "5c68ccc7-4b2a-4c83-afb2-180092dcd13a",
   "metadata": {},
   "outputs": [],
   "source": [
    "def f(freq=10., amplitude=10.):\n",
    "    t = np.linspace(0, 20, 10_000)\n",
    "    noise = -np.sin(t * 2 * np.pi * freq) * amplitude\n",
    "    plt.subplot(211)\n",
    "    plt.plot(noise)\n",
    "    plt.ylim([-10, 10])\n",
    "    plt.subplot(212)\n",
    "    plt.plot(clean - noise)\n",
    "    return clean - noise;\n",
    "\n",
    "w = interactive(f, freq=[.025, .1, .5, 1., 5., 10], amplitude=(1, 50, 5.));\n",
    "display(w);"
   ]
  },
  {
   "cell_type": "code",
   "execution_count": null,
   "id": "e5db5239-99f5-4561-a40b-189b858cf554",
   "metadata": {},
   "outputs": [],
   "source": [
    "cleaner = w.result\n",
    "plt.plot(cleaner);"
   ]
  },
  {
   "cell_type": "code",
   "execution_count": null,
   "id": "8614fea8-db4f-4396-ae13-f2e48fa2877e",
   "metadata": {},
   "outputs": [],
   "source": [
    "# najdi zpusob jak spocitat pocet spicek automaticky\n",
    "\n",
    "# nejdriv najdi prah, nad kterym je signal dostatecne vysoky\n",
    "# (staci okometricky)\n",
    "high = cleaner > ...\n",
    "plt.plot(high)"
   ]
  },
  {
   "cell_type": "code",
   "execution_count": null,
   "id": "eb276a9d-abd0-424a-bed2-f9b5258be9a7",
   "metadata": {},
   "outputs": [],
   "source": [
    "np.sum(high)"
   ]
  },
  {
   "cell_type": "code",
   "execution_count": null,
   "id": "63764b6a-1b5d-4cca-8d38-791cacccf0ff",
   "metadata": {},
   "outputs": [],
   "source": [
    "diff = ..."
   ]
  },
  {
   "cell_type": "code",
   "execution_count": null,
   "id": "77113cda-3b28-4587-8406-fee46c8f6491",
   "metadata": {},
   "outputs": [],
   "source": [
    "go_up = ..."
   ]
  },
  {
   "cell_type": "code",
   "execution_count": null,
   "id": "55bde389-4171-4e11-ae4c-0a02cca5c35b",
   "metadata": {},
   "outputs": [],
   "source": [
    "heart_rate = ..."
   ]
  }
 ],
 "metadata": {
  "kernelspec": {
   "display_name": "Python 3 (ipykernel)",
   "language": "python",
   "name": "python3"
  },
  "language_info": {
   "codemirror_mode": {
    "name": "ipython",
    "version": 3
   },
   "file_extension": ".py",
   "mimetype": "text/x-python",
   "name": "python",
   "nbconvert_exporter": "python",
   "pygments_lexer": "ipython3",
   "version": "3.13.3"
  }
 },
 "nbformat": 4,
 "nbformat_minor": 5
}
